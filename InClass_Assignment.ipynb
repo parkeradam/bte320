{
  "nbformat": 4,
  "nbformat_minor": 0,
  "metadata": {
    "colab": {
      "provenance": [],
      "authorship_tag": "ABX9TyN9rG/2pjxptItWsoC6ru46",
      "include_colab_link": true
    },
    "kernelspec": {
      "name": "python3",
      "display_name": "Python 3"
    },
    "language_info": {
      "name": "python"
    }
  },
  "cells": [
    {
      "cell_type": "markdown",
      "metadata": {
        "id": "view-in-github",
        "colab_type": "text"
      },
      "source": [
        "<a href=\"https://colab.research.google.com/github/parkeradam/bte320/blob/main/InClass_Assignment.ipynb\" target=\"_parent\"><img src=\"https://colab.research.google.com/assets/colab-badge.svg\" alt=\"Open In Colab\"/></a>"
      ]
    },
    {
      "cell_type": "code",
      "execution_count": null,
      "metadata": {
        "colab": {
          "base_uri": "https://localhost:8080/"
        },
        "id": "_fguDBlu22zw",
        "outputId": "5cdfb253-758f-43b0-ed4d-b457f335e54c"
      },
      "outputs": [
        {
          "output_type": "stream",
          "name": "stdout",
          "text": [
            "Please enter the radius: 5\n",
            "Please enter the height: 7\n",
            "The Area Equals: 376.8 sq. ft\n"
          ]
        }
      ],
      "source": [
        "Radius = float(input(\"Please enter the radius: \"))\n",
        "Height = float(input(\"Please enter the height: \"))\n",
        "Pi = 3.14\n",
        "area=(2*Pi*(Radius**2))+(2*Pi*Height*Radius)\n",
        "type(area)\n",
        "print (f'The Area Equals: {area} sq. ft')"
      ]
    },
    {
      "cell_type": "code",
      "source": [
        "n1 = float(input(\"Please enter the first number: \"))\n",
        "n2 = float(input(\"Please enter the second number: \"))\n",
        "op = input(\"Please enter the operation: \")\n",
        "\n",
        "if op == \"+\":\n",
        "    print(n1+n2)\n",
        "elif op == \"-\":\n",
        "  print(n1-n2)\n",
        "elif op == \"*\":\n",
        "  print(n1*n2)\n",
        "elif op == \"/\":\n",
        "  print(n1/n2)\n",
        "elif op == \"//\":\n",
        "  print(n1//n2)\n",
        "elif op == \"%\":\n",
        "  print(n1%n2)\n",
        "elif op == \"**\":\n",
        "  print(n1**n2)\n",
        "else:\n",
        "  print(\"Invalid Operation\")\n"
      ],
      "metadata": {
        "id": "cEFHNZTg3uO1",
        "colab": {
          "base_uri": "https://localhost:8080/"
        },
        "outputId": "70f4e4d1-830b-47e9-bee5-a3fc5551c540"
      },
      "execution_count": null,
      "outputs": [
        {
          "output_type": "stream",
          "name": "stdout",
          "text": [
            "Please enter the first number: 7\n",
            "Please enter the second number: 7\n",
            "Please enter the operation: *\n",
            "49.0\n"
          ]
        }
      ]
    },
    {
      "cell_type": "code",
      "source": [
        "for numberHours in range (1, 9):\n",
        "  fee = 5 + 2.5 * numberHours\n",
        "  if fee < 10:\n",
        "    fee = 10.0\n",
        "  elif fee > 20:\n",
        "    fee = 20.0\n",
        "  print(numberHours,fee)"
      ],
      "metadata": {
        "colab": {
          "base_uri": "https://localhost:8080/"
        },
        "id": "OpPuOeITpqgX",
        "outputId": "88c22f22-b194-4a65-b672-edc64fcb4b8a"
      },
      "execution_count": 6,
      "outputs": [
        {
          "output_type": "stream",
          "name": "stdout",
          "text": [
            "1 10.0\n",
            "2 10.0\n",
            "3 12.5\n",
            "4 15.0\n",
            "5 17.5\n",
            "6 20.0\n",
            "7 20.0\n",
            "8 20.0\n"
          ]
        }
      ]
    },
    {
      "cell_type": "code",
      "source": [
        "print('Ad$\\t', 'Profit')\n",
        "for AdMoney in range (0, 201, 25):\n",
        "  rev = (20 + 2 * round(AdMoney ** 0.5)) * 10\n",
        "for AdMoney in range (0, 201, 25):\n",
        "  rev = (20 + 2 * round(AdMoney ** 0.5)) * 10\n",
        "  costs = 200 + AdMoney\n",
        "  profit = rev - costs\n",
        "  print (AdMoney, '\\t', profit)"
      ],
      "metadata": {
        "colab": {
          "base_uri": "https://localhost:8080/"
        },
        "id": "RKZ7GBRoq_uQ",
        "outputId": "32c32ab7-603f-40f3-cee7-e6165fc5392d"
      },
      "execution_count": 18,
      "outputs": [
        {
          "output_type": "stream",
          "name": "stdout",
          "text": [
            "Ad$\t Profit\n",
            "0 \t 0\n",
            "25 \t 75\n",
            "50 \t 90\n",
            "75 \t 105\n",
            "100 \t 100\n",
            "125 \t 95\n",
            "150 \t 90\n",
            "175 \t 85\n",
            "200 \t 80\n"
          ]
        }
      ]
    }
  ]
}