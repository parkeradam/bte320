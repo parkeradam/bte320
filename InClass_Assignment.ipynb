{
  "nbformat": 4,
  "nbformat_minor": 0,
  "metadata": {
    "colab": {
      "provenance": [],
      "authorship_tag": "ABX9TyOi2AbBj5N16IdUTi5NpphK",
      "include_colab_link": true
    },
    "kernelspec": {
      "name": "python3",
      "display_name": "Python 3"
    },
    "language_info": {
      "name": "python"
    }
  },
  "cells": [
    {
      "cell_type": "markdown",
      "metadata": {
        "id": "view-in-github",
        "colab_type": "text"
      },
      "source": [
        "<a href=\"https://colab.research.google.com/github/parkeradam/bte320/blob/main/InClass_Assignment.ipynb\" target=\"_parent\"><img src=\"https://colab.research.google.com/assets/colab-badge.svg\" alt=\"Open In Colab\"/></a>"
      ]
    },
    {
      "cell_type": "code",
      "execution_count": null,
      "metadata": {
        "colab": {
          "base_uri": "https://localhost:8080/"
        },
        "id": "_fguDBlu22zw",
        "outputId": "5cdfb253-758f-43b0-ed4d-b457f335e54c"
      },
      "outputs": [
        {
          "output_type": "stream",
          "name": "stdout",
          "text": [
            "Please enter the radius: 5\n",
            "Please enter the height: 7\n",
            "The Area Equals: 376.8 sq. ft\n"
          ]
        }
      ],
      "source": [
        "Radius = float(input(\"Please enter the radius: \"))\n",
        "Height = float(input(\"Please enter the height: \"))\n",
        "Pi = 3.14\n",
        "area=(2*Pi*(Radius**2))+(2*Pi*Height*Radius)\n",
        "type(area)\n",
        "print (f'The Area Equals: {area} sq. ft')"
      ]
    },
    {
      "cell_type": "code",
      "source": [
        "n1 = float(input(\"Please enter the first number: \"))\n",
        "n2 = float(input(\"Please enter the second number: \"))\n",
        "op = input(\"Please enter the operation: \")\n",
        "\n",
        "if op == \"+\":\n",
        "    print(n1+n2)\n",
        "elif op == \"-\":\n",
        "  print(n1-n2)\n",
        "elif op == \"*\":\n",
        "  print(n1*n2)\n",
        "elif op == \"/\":\n",
        "  print(n1/n2)\n",
        "elif op == \"//\":\n",
        "  print(n1//n2)\n",
        "elif op == \"%\":\n",
        "  print(n1%n2)\n",
        "elif op == \"**\":\n",
        "  print(n1**n2)\n",
        "else:\n",
        "  print(\"Invalid Operation\")\n"
      ],
      "metadata": {
        "id": "cEFHNZTg3uO1",
        "colab": {
          "base_uri": "https://localhost:8080/"
        },
        "outputId": "70f4e4d1-830b-47e9-bee5-a3fc5551c540"
      },
      "execution_count": 13,
      "outputs": [
        {
          "output_type": "stream",
          "name": "stdout",
          "text": [
            "Please enter the first number: 7\n",
            "Please enter the second number: 7\n",
            "Please enter the operation: *\n",
            "49.0\n"
          ]
        }
      ]
    }
  ]
}