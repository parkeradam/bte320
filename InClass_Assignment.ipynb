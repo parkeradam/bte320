{
  "nbformat": 4,
  "nbformat_minor": 0,
  "metadata": {
    "colab": {
      "provenance": [],
      "authorship_tag": "ABX9TyMK1CPygiR33SbVXVIP6DrL",
      "include_colab_link": true
    },
    "kernelspec": {
      "name": "python3",
      "display_name": "Python 3"
    },
    "language_info": {
      "name": "python"
    }
  },
  "cells": [
    {
      "cell_type": "markdown",
      "metadata": {
        "id": "view-in-github",
        "colab_type": "text"
      },
      "source": [
        "<a href=\"https://colab.research.google.com/github/parkeradam/bte320/blob/main/InClass_Assignment.ipynb\" target=\"_parent\"><img src=\"https://colab.research.google.com/assets/colab-badge.svg\" alt=\"Open In Colab\"/></a>"
      ]
    },
    {
      "cell_type": "code",
      "execution_count": 2,
      "metadata": {
        "colab": {
          "base_uri": "https://localhost:8080/"
        },
        "id": "_fguDBlu22zw",
        "outputId": "5cdfb253-758f-43b0-ed4d-b457f335e54c"
      },
      "outputs": [
        {
          "output_type": "stream",
          "name": "stdout",
          "text": [
            "Please enter the radius: 5\n",
            "Please enter the height: 7\n",
            "The Area Equals: 376.8 sq. ft\n"
          ]
        }
      ],
      "source": [
        "Radius = float(input(\"Please enter the radius: \"))\n",
        "Height = float(input(\"Please enter the height: \"))\n",
        "Pi = 3.14\n",
        "area=(2*Pi*(Radius**2))+(2*Pi*Height*Radius)\n",
        "type(area)\n",
        "print (f'The Area Equals: {area} sq. ft')"
      ]
    },
    {
      "cell_type": "code",
      "source": [],
      "metadata": {
        "id": "cEFHNZTg3uO1"
      },
      "execution_count": null,
      "outputs": []
    }
  ]
}