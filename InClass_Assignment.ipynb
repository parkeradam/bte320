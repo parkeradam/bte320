{
  "nbformat": 4,
  "nbformat_minor": 0,
  "metadata": {
    "colab": {
      "provenance": [],
      "authorship_tag": "ABX9TyOIeqPabOgINiQrkPlONrMA",
      "include_colab_link": true
    },
    "kernelspec": {
      "name": "python3",
      "display_name": "Python 3"
    },
    "language_info": {
      "name": "python"
    }
  },
  "cells": [
    {
      "cell_type": "markdown",
      "metadata": {
        "id": "view-in-github",
        "colab_type": "text"
      },
      "source": [
        "<a href=\"https://colab.research.google.com/github/parkeradam/bte320/blob/main/InClass_Assignment.ipynb\" target=\"_parent\"><img src=\"https://colab.research.google.com/assets/colab-badge.svg\" alt=\"Open In Colab\"/></a>"
      ]
    },
    {
      "cell_type": "code",
      "execution_count": null,
      "metadata": {
        "colab": {
          "base_uri": "https://localhost:8080/"
        },
        "id": "_fguDBlu22zw",
        "outputId": "5cdfb253-758f-43b0-ed4d-b457f335e54c"
      },
      "outputs": [
        {
          "output_type": "stream",
          "name": "stdout",
          "text": [
            "Please enter the radius: 5\n",
            "Please enter the height: 7\n",
            "The Area Equals: 376.8 sq. ft\n"
          ]
        }
      ],
      "source": [
        "Radius = float(input(\"Please enter the radius: \"))\n",
        "Height = float(input(\"Please enter the height: \"))\n",
        "Pi = 3.14\n",
        "area=(2*Pi*(Radius**2))+(2*Pi*Height*Radius)\n",
        "type(area)\n",
        "print (f'The Area Equals: {area} sq. ft')"
      ]
    },
    {
      "cell_type": "code",
      "source": [
        "n1 = float(input(\"Please enter the first number: \"))\n",
        "n2 = float(input(\"Please enter the second number: \"))\n",
        "op = input(\"Please enter the operation: \")\n",
        "\n",
        "if op == \"+\":\n",
        "    print(n1+n2)\n",
        "elif op == \"-\":\n",
        "  print(n1-n2)\n",
        "elif op == \"*\":\n",
        "  print(n1*n2)\n",
        "elif op == \"/\":\n",
        "  print(n1/n2)\n",
        "elif op == \"//\":\n",
        "  print(n1//n2)\n",
        "elif op == \"%\":\n",
        "  print(n1%n2)\n",
        "elif op == \"**\":\n",
        "  print(n1**n2)\n",
        "else:\n",
        "  print(\"Invalid Operation\")\n"
      ],
      "metadata": {
        "id": "cEFHNZTg3uO1",
        "colab": {
          "base_uri": "https://localhost:8080/"
        },
        "outputId": "70f4e4d1-830b-47e9-bee5-a3fc5551c540"
      },
      "execution_count": null,
      "outputs": [
        {
          "output_type": "stream",
          "name": "stdout",
          "text": [
            "Please enter the first number: 7\n",
            "Please enter the second number: 7\n",
            "Please enter the operation: *\n",
            "49.0\n"
          ]
        }
      ]
    },
    {
      "cell_type": "code",
      "source": [
        "for numberHours in range (1, 9):\n",
        "  fee = 5 + 2.5 * numberHours\n",
        "  if fee < 10:\n",
        "    fee = 10.0\n",
        "  elif fee > 20:\n",
        "    fee = 20.0\n",
        "  print(numberHours,fee)"
      ],
      "metadata": {
        "colab": {
          "base_uri": "https://localhost:8080/"
        },
        "id": "OpPuOeITpqgX",
        "outputId": "88c22f22-b194-4a65-b672-edc64fcb4b8a"
      },
      "execution_count": null,
      "outputs": [
        {
          "output_type": "stream",
          "name": "stdout",
          "text": [
            "1 10.0\n",
            "2 10.0\n",
            "3 12.5\n",
            "4 15.0\n",
            "5 17.5\n",
            "6 20.0\n",
            "7 20.0\n",
            "8 20.0\n"
          ]
        }
      ]
    },
    {
      "cell_type": "code",
      "source": [
        "print('Ad$\\t', 'Profit')\n",
        "for AdMoney in range (0, 201, 25):\n",
        "  rev = (20 + 2 * round(AdMoney ** 0.5)) * 10\n",
        "for AdMoney in range (0, 201, 25):\n",
        "  rev = (20 + 2 * round(AdMoney ** 0.5)) * 10\n",
        "  costs = 200 + AdMoney\n",
        "  profit = rev - costs\n",
        "  print (AdMoney, '\\t', profit)"
      ],
      "metadata": {
        "colab": {
          "base_uri": "https://localhost:8080/"
        },
        "id": "RKZ7GBRoq_uQ",
        "outputId": "32c32ab7-603f-40f3-cee7-e6165fc5392d"
      },
      "execution_count": null,
      "outputs": [
        {
          "output_type": "stream",
          "name": "stdout",
          "text": [
            "Ad$\t Profit\n",
            "0 \t 0\n",
            "25 \t 75\n",
            "50 \t 90\n",
            "75 \t 105\n",
            "100 \t 100\n",
            "125 \t 95\n",
            "150 \t 90\n",
            "175 \t 85\n",
            "200 \t 80\n"
          ]
        }
      ]
    },
    {
      "cell_type": "code",
      "source": [
        "play = (input(\"Would you like to play the game(Yes or No): \"))\n",
        "while play == \"Yes\" or YoN == \"yes\":\n",
        "  print(\"Let's Play!\")\n",
        "  PlayerOne = input(\"Player One, Please enter: Rock, Paper, or Scissors: \")\n",
        "  PlayerTwo = input(\"Player Two, Please enter: Rock, Paper, or Scissors: \")\n",
        "  if PlayerOne == PlayerTwo:\n",
        "    print(\"Tie!\")\n",
        "  elif PlayerOne == \"Rock\" and PlayerTwo == \"Scissors\":\n",
        "    print(\"Player One Wins!\")\n",
        "  elif PlayerOne == \"Paper\" and PlayerTwo == \"Rock\":\n",
        "    print(\"Player One Wins!\")\n",
        "  elif PlayerOne == \"Scissors\" and PlayerTwo == \"Paper\":\n",
        "    print(\"Player One Wins!\")\n",
        "  else:\n",
        "    print(\"Player Two Wins!\")\n",
        "\n",
        "  play = input(\"Would you like to play again(Yes or No): \")\n",
        "print ('Have a good day!')"
      ],
      "metadata": {
        "colab": {
          "base_uri": "https://localhost:8080/"
        },
        "outputId": "8d0bdb57-c6ff-4241-9913-53cf35708186",
        "id": "8K-AD0RMeLXR"
      },
      "execution_count": null,
      "outputs": [
        {
          "output_type": "stream",
          "name": "stdout",
          "text": [
            "Would you like to play the game(Yes or No): No\n",
            "Have a good day!\n"
          ]
        }
      ]
    },
    {
      "cell_type": "code",
      "source": [
        "lst = []\n",
        "\n",
        "num = float(input(\"Please enter a numerical number: \"))\n",
        "\n",
        "while num != 0.0:\n",
        "  lst.append(num)\n",
        "  num = float(input(\"Please enter a numerical number: \"))\n",
        "\n",
        "lst.sort(reverse=True)\n",
        "lst"
      ],
      "metadata": {
        "colab": {
          "base_uri": "https://localhost:8080/"
        },
        "id": "QyXh_sVnf4ow",
        "outputId": "23f71f9d-1966-4c61-e772-0a90c1f65c4f"
      },
      "execution_count": null,
      "outputs": [
        {
          "name": "stdout",
          "output_type": "stream",
          "text": [
            "Please enter a numerical number: 6\n",
            "Please enter a numerical number: 5\n",
            "Please enter a numerical number: 9\n",
            "Please enter a numerical number: 3\n",
            "Please enter a numerical number: 12\n",
            "Please enter a numerical number: 0\n"
          ]
        },
        {
          "output_type": "execute_result",
          "data": {
            "text/plain": [
              "[12.0, 9.0, 6.0, 5.0, 3.0]"
            ]
          },
          "metadata": {},
          "execution_count": 39
        }
      ]
    },
    {
      "cell_type": "code",
      "source": [
        "months = {}\n",
        "\n",
        "names = [\"Jan\", \"Feb\", \"Mar\", \"Apr\", \"May\", \"Jun\", \"Jul\", \"Aug\", \"Sep\", \"Oct\", \"Nov\", \"Dec\"]\n",
        "numbers = [1,2,3,4,5,6,7,8,9,10,11,12]\n",
        "\n",
        "for idx in range(len(names)):\n",
        "  months[numbers[idx]] = names[idx]\n",
        "months"
      ],
      "metadata": {
        "colab": {
          "base_uri": "https://localhost:8080/"
        },
        "id": "1TfYg66fADcb",
        "outputId": "b9a6282c-ec9b-45ce-d52a-ea661ef15c22"
      },
      "execution_count": 15,
      "outputs": [
        {
          "output_type": "execute_result",
          "data": {
            "text/plain": [
              "{1: 'Jan',\n",
              " 2: 'Feb',\n",
              " 3: 'Mar',\n",
              " 4: 'Apr',\n",
              " 5: 'May',\n",
              " 6: 'Jun',\n",
              " 7: 'Jul',\n",
              " 8: 'Aug',\n",
              " 9: 'Sep',\n",
              " 10: 'Oct',\n",
              " 11: 'Nov',\n",
              " 12: 'Dec'}"
            ]
          },
          "metadata": {},
          "execution_count": 15
        }
      ]
    },
    {
      "cell_type": "code",
      "source": [
        "counts = {}\n",
        "\n",
        "while len(counts) < 5:\n",
        "  key = input(\"Please enter value: \")\n",
        "\n",
        "if key not in counts:\n",
        "  counts[key] = 1\n",
        "else:\n",
        "  counts[key] += 1\n",
        "counts"
      ],
      "metadata": {
        "id": "xXCPPQ8iGv0_"
      },
      "execution_count": null,
      "outputs": []
    }
  ]
}